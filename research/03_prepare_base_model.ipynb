{
 "cells": [
  {
   "cell_type": "code",
   "execution_count": 1,
   "metadata": {},
   "outputs": [],
   "source": [
    "import os"
   ]
  },
  {
   "cell_type": "code",
   "execution_count": 2,
   "metadata": {},
   "outputs": [],
   "source": [
    "os.chdir(\"../\")"
   ]
  },
  {
   "cell_type": "code",
   "execution_count": 3,
   "metadata": {},
   "outputs": [
    {
     "data": {
      "text/plain": [
       "'d:\\\\ML_Projects\\\\Violence-Reporter'"
      ]
     },
     "execution_count": 3,
     "metadata": {},
     "output_type": "execute_result"
    }
   ],
   "source": [
    "%pwd"
   ]
  },
  {
   "cell_type": "code",
   "execution_count": 19,
   "metadata": {},
   "outputs": [],
   "source": [
    "from dataclasses import dataclass\n",
    "from pathlib import Path\n",
    "\n",
    "\n",
    "@dataclass(frozen=True)\n",
    "class PrepareBaseModelConfig:\n",
    "    root_dir:Path\n",
    "    base_model_path:Path\n",
    "    updated_base_model_path: Path\n",
    "    params_image_height: int\n",
    "    params_image_width: int\n",
    "    params_sequence_length: int\n",
    "    params_include_top: bool\n",
    "    params_weights: str\n",
    "    params_istrainable: bool\n",
    "    params_freeze_till: int\n",
    "    params_classes: int"
   ]
  },
  {
   "cell_type": "code",
   "execution_count": 20,
   "metadata": {},
   "outputs": [],
   "source": [
    "from violenceReporter.constants import *\n",
    "from violenceReporter.utils.common import read_yaml,create_directories"
   ]
  },
  {
   "cell_type": "code",
   "execution_count": 21,
   "metadata": {},
   "outputs": [],
   "source": [
    "class ConfigurationManager:\n",
    "    def __init__(\n",
    "        self,\n",
    "        config_filepath = CONFIG_FILE_PATH,\n",
    "        params_filepath = PARAMS_FILE_PATH):\n",
    "\n",
    "        self.config = read_yaml(config_filepath)\n",
    "        self.params = read_yaml(params_filepath)\n",
    "\n",
    "        create_directories([self.config.artifacts_root])\n",
    "\n",
    "    \n",
    "\n",
    "    def get_prepare_base_model_config(self) -> PrepareBaseModelConfig:\n",
    "        config = self.config.prepare_base_model\n",
    "        \n",
    "        create_directories([config.root_dir])\n",
    "\n",
    "        prepare_base_model_config = PrepareBaseModelConfig(\n",
    "            root_dir=Path(config.root_dir),\n",
    "            base_model_path=Path(config.base_model_path),\n",
    "            updated_base_model_path=Path(config.updated_base_model_path),\n",
    "            params_include_top=self.params.INCLUDE_TOP,\n",
    "            params_weights=self.params.WEIGHTS,\n",
    "            params_classes=self.params.CLASSES,\n",
    "            params_image_height= self.params.IMAGE_HEIGHT,\n",
    "            params_image_width= self.params.IMAGE_WIDTH,\n",
    "            params_sequence_length= self.params.SEQUENCE_LENGTH,\n",
    "            params_istrainable= self.params.TRAINABLE,\n",
    "            params_freeze_till= self.params.FREEZE_TILL\n",
    "        )\n",
    "\n",
    "        return prepare_base_model_config"
   ]
  },
  {
   "cell_type": "code",
   "execution_count": 22,
   "metadata": {},
   "outputs": [],
   "source": [
    "import tensorflow as tf\n",
    "from tensorflow import keras\n",
    "from keras.layers import *\n",
    "from keras.models import Sequential\n",
    "from keras.applications.mobilenet_v2 import MobileNetV2"
   ]
  },
  {
   "cell_type": "code",
   "execution_count": 26,
   "metadata": {},
   "outputs": [],
   "source": [
    "class PrepareBaseModel:\n",
    "    def __init__(self,config:PrepareBaseModelConfig):\n",
    "        self.config=config\n",
    "    \n",
    "    def get_base_model(self):\n",
    "        self.model = MobileNetV2(\n",
    "            include_top=self.config.params_include_top, \n",
    "            weights=self.config.params_weights)\n",
    "        \n",
    "        self.model.trainable = self.config.params_istrainable\n",
    "\n",
    "        self.save_model(self.config.base_model_path,model=self.model)\n",
    "    \n",
    "    @staticmethod\n",
    "    def prepare_full_model(base_model,classes,freeze_till,sequence_length,image_height,image_width):\n",
    "        for layer in base_model.layers[:freeze_till]:\n",
    "            layer.trainable=False\n",
    "        \n",
    "\n",
    "        model = Sequential()\n",
    "        model.add(Input(shape=(sequence_length,image_height,image_width, 3)))\n",
    "        model.add(TimeDistributed(base_model))\n",
    "        model.add(Dropout(0.25))\n",
    "        model.add(TimeDistributed(Flatten()))\n",
    "\n",
    "        lstm_fw = LSTM(units=32)\n",
    "        lstm_bw = LSTM(units=32, go_backwards=True)\n",
    "        model.add(Bidirectional(lstm_fw, backward_layer=lstm_bw))\n",
    "\n",
    "        model.add(Dropout(0.25))\n",
    "        model.add(Dense(256, activation='relu'))\n",
    "        model.add(Dropout(0.25))\n",
    "        model.add(Dense(128, activation='relu'))\n",
    "        model.add(Dropout(0.25))\n",
    "        model.add(Dense(64, activation='relu'))\n",
    "        model.add(Dropout(0.25))\n",
    "        model.add(Dense(32, activation='relu'))\n",
    "        model.add(Dropout(0.25))\n",
    "        model.add(Dense(classes, activation='softmax'))\n",
    "        \n",
    "\n",
    "        model.compile(loss='categorical_crossentropy', optimizer='sgd', metrics=[\"accuracy\"])\n",
    "\n",
    "        model.summary()\n",
    "\n",
    "        return model\n",
    "    \n",
    "    def update_base_model(self):\n",
    "        self.full_model = self.prepare_full_model(\n",
    "            base_model=self.model,\n",
    "            classes=self.config.params_classes,\n",
    "            freeze_till=self.config.params_freeze_till,\n",
    "            sequence_length=self.config.params_sequence_length,\n",
    "            image_height=self.config.params_image_height,\n",
    "            image_width=self.config.params_image_width\n",
    "        )\n",
    "\n",
    "        self.save_model(path=self.config.updated_base_model_path, model=self.full_model)\n",
    "\n",
    "    @staticmethod\n",
    "    def save_model(path: Path, model: tf.keras.Model):\n",
    "        model.save(path)"
   ]
  },
  {
   "cell_type": "code",
   "execution_count": 27,
   "metadata": {},
   "outputs": [
    {
     "name": "stdout",
     "output_type": "stream",
     "text": [
      "[2024-03-31 01:28:03,393: INFO: common: yaml file: config\\config.yaml loaded successfully]\n",
      "[2024-03-31 01:28:03,400: INFO: common: yaml file: params.yaml loaded successfully]\n",
      "[2024-03-31 01:28:03,402: INFO: common: created directory at: artifacts]\n",
      "[2024-03-31 01:28:03,405: INFO: common: created directory at: artifacts/prepare_base_model]\n",
      "[2024-03-31 01:28:03,408: WARNING: mobilenet_v2: `input_shape` is undefined or non-square, or `rows` is not in [96, 128, 160, 192, 224]. Weights for input shape (224, 224) will be loaded as the default.]\n"
     ]
    },
    {
     "name": "stdout",
     "output_type": "stream",
     "text": [
      "[2024-03-31 01:28:05,488: WARNING: saving_utils: Compiled the loaded model, but the compiled metrics have yet to be built. `model.compile_metrics` will be empty until you train or evaluate the model.]\n",
      "Model: \"sequential\"\n",
      "_________________________________________________________________\n",
      " Layer (type)                Output Shape              Param #   \n",
      "=================================================================\n",
      " time_distributed (TimeDistr  (None, 16, 2, 2, 1280)   2257984   \n",
      " ibuted)                                                         \n",
      "                                                                 \n",
      " dropout (Dropout)           (None, 16, 2, 2, 1280)    0         \n",
      "                                                                 \n",
      " time_distributed_1 (TimeDis  (None, 16, 5120)         0         \n",
      " tributed)                                                       \n",
      "                                                                 \n",
      " bidirectional (Bidirectiona  (None, 64)               1319168   \n",
      " l)                                                              \n",
      "                                                                 \n",
      " dropout_1 (Dropout)         (None, 64)                0         \n",
      "                                                                 \n",
      " dense (Dense)               (None, 256)               16640     \n",
      "                                                                 \n",
      " dropout_2 (Dropout)         (None, 256)               0         \n",
      "                                                                 \n",
      " dense_1 (Dense)             (None, 128)               32896     \n",
      "                                                                 \n",
      " dropout_3 (Dropout)         (None, 128)               0         \n",
      "                                                                 \n",
      " dense_2 (Dense)             (None, 64)                8256      \n",
      "                                                                 \n",
      " dropout_4 (Dropout)         (None, 64)                0         \n",
      "                                                                 \n",
      " dense_3 (Dense)             (None, 32)                2080      \n",
      "                                                                 \n",
      " dropout_5 (Dropout)         (None, 32)                0         \n",
      "                                                                 \n",
      " dense_4 (Dense)             (None, 2)                 66        \n",
      "                                                                 \n",
      "=================================================================\n",
      "Total params: 3,637,090\n",
      "Trainable params: 3,060,642\n",
      "Non-trainable params: 576,448\n",
      "_________________________________________________________________\n"
     ]
    }
   ],
   "source": [
    "try:\n",
    "    config = ConfigurationManager()\n",
    "    prepare_base_model_config = config.get_prepare_base_model_config()\n",
    "    prepare_base_model = PrepareBaseModel(config=prepare_base_model_config)\n",
    "    prepare_base_model.get_base_model()\n",
    "    prepare_base_model.update_base_model()\n",
    "except Exception as e:\n",
    "    raise e"
   ]
  }
 ],
 "metadata": {
  "kernelspec": {
   "display_name": "Python 3",
   "language": "python",
   "name": "python3"
  },
  "language_info": {
   "codemirror_mode": {
    "name": "ipython",
    "version": 3
   },
   "file_extension": ".py",
   "mimetype": "text/x-python",
   "name": "python",
   "nbconvert_exporter": "python",
   "pygments_lexer": "ipython3",
   "version": "3.9.19"
  }
 },
 "nbformat": 4,
 "nbformat_minor": 2
}

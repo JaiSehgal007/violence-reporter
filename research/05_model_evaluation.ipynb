{
 "cells": [
  {
   "cell_type": "code",
   "execution_count": 1,
   "metadata": {},
   "outputs": [],
   "source": [
    "import os"
   ]
  },
  {
   "cell_type": "code",
   "execution_count": 2,
   "metadata": {},
   "outputs": [],
   "source": [
    "os.chdir(\"../\")"
   ]
  },
  {
   "cell_type": "code",
   "execution_count": 3,
   "metadata": {},
   "outputs": [
    {
     "data": {
      "text/plain": [
       "'d:\\\\ML_Projects\\\\Violence-Reporter'"
      ]
     },
     "execution_count": 3,
     "metadata": {},
     "output_type": "execute_result"
    }
   ],
   "source": [
    "%pwd"
   ]
  },
  {
   "cell_type": "code",
   "execution_count": 4,
   "metadata": {},
   "outputs": [
    {
     "data": {
      "text/plain": [
       "True"
      ]
     },
     "execution_count": 4,
     "metadata": {},
     "output_type": "execute_result"
    }
   ],
   "source": [
    "from dotenv import load_dotenv\n",
    "load_dotenv()"
   ]
  },
  {
   "cell_type": "code",
   "execution_count": 5,
   "metadata": {},
   "outputs": [],
   "source": [
    "os.environ['MLFLOW_TRACKING_URI']=os.getenv('MLFLOW_TRACKING_URI')\n",
    "os.environ['MLFLOW_TRACKING_USERNAME']=os.getenv('MLFLOW_TRACKING_USERNAME')\n",
    "os.environ['MLFLOW_TRACKING_PASSWORD']=os.getenv('MLFLOW_TRACKING_PASSWORD')"
   ]
  },
  {
   "cell_type": "code",
   "execution_count": 22,
   "metadata": {},
   "outputs": [],
   "source": [
    "from dataclasses import dataclass\n",
    "from pathlib import Path\n",
    "\n",
    "@dataclass(frozen=True)\n",
    "class EvaluationConfig:\n",
    "    root_dir: Path\n",
    "    path_of_model: Path\n",
    "    training_data: Path\n",
    "    training_metrics: Path\n",
    "    all_params: dict\n",
    "    mlflow_uri: str"
   ]
  },
  {
   "cell_type": "code",
   "execution_count": 23,
   "metadata": {},
   "outputs": [],
   "source": [
    "from violenceReporter.constants import *\n",
    "from violenceReporter.utils.common import read_yaml, create_directories, save_json"
   ]
  },
  {
   "cell_type": "code",
   "execution_count": 24,
   "metadata": {},
   "outputs": [],
   "source": [
    "class ConfigurationManager:\n",
    "    def __init__(\n",
    "        self,\n",
    "        config_filepath=CONFIG_FILE_PATH,\n",
    "        params_filepath=PARAMS_FILE_PATH):\n",
    "        self.config=read_yaml(config_filepath)\n",
    "        self.params=read_yaml(params_filepath)\n",
    "        create_directories([self.config.artifacts_root])\n",
    "    \n",
    "    def get_evaluation_config(self) -> EvaluationConfig:\n",
    "        create_directories([\n",
    "            Path(self.config.evaluation.root_dir)\n",
    "        ])\n",
    "\n",
    "        eval_config = EvaluationConfig(\n",
    "            root_dir=Path(self.config.evaluation.root_dir),\n",
    "            path_of_model=Path(self.config.training.trained_model_path),\n",
    "            training_metrics=Path(self.config.evaluation.training_metrics),\n",
    "            training_data=Path(self.config.data_transformation.root_dir),\n",
    "            mlflow_uri=os.environ['MLFLOW_TRACKING_URI'],\n",
    "            all_params=self.params,\n",
    "        )\n",
    "        return eval_config\n",
    "    "
   ]
  },
  {
   "cell_type": "code",
   "execution_count": 25,
   "metadata": {},
   "outputs": [],
   "source": [
    "import tensorflow as tf\n",
    "from pathlib import Path\n",
    "import mlflow\n",
    "import mlflow.keras\n",
    "from urllib.parse import urlparse\n",
    "import pandas as pd\n",
    "import matplotlib.pyplot as plt\n",
    "from sklearn.metrics import confusion_matrix\n",
    "import seaborn as sns\n",
    "import numpy as np\n",
    "from tensorflow.keras.utils import to_categorical\n",
    "from sklearn.model_selection import train_test_split\n",
    "from sklearn.metrics import classification_report\n",
    "from pathlib import Path\n",
    "%matplotlib inline"
   ]
  },
  {
   "cell_type": "code",
   "execution_count": 34,
   "metadata": {},
   "outputs": [],
   "source": [
    "class Evaluation:\n",
    "    def __init__(self, config: EvaluationConfig):\n",
    "        self.config = config\n",
    "    \n",
    "    def plot_metric(self,model_training_history, metric_name_1, metric_name_2, plot_name):\n",
    "        metric_value_1 = model_training_history[metric_name_1]\n",
    "        metric_value_2 = model_training_history[metric_name_2]\n",
    "        epochs = range(len(metric_value_1))\n",
    "    \n",
    "        plt.plot(epochs, metric_value_1, 'blue', label=metric_name_1)\n",
    "        plt.plot(epochs, metric_value_2, 'orange', label=metric_name_2)\n",
    "        plt.title(str(plot_name))\n",
    "        plt.legend()\n",
    "\n",
    "\n",
    "    def generate_training_metrics(self):\n",
    "        model_history = pd.read_csv(self.config.training_metrics)\n",
    "\n",
    "        # Plot loss\n",
    "        self.plot_metric(model_history, 'loss', 'val_loss', 'Total Loss vs Total Validation Loss')\n",
    "        plt.savefig(os.path.join(self.config.root_dir,'loss_plot.png'))\n",
    "        plt.close()\n",
    "\n",
    "        # Plot accuracy\n",
    "        self.plot_metric(model_history, 'accuracy', 'val_accuracy', 'Total Accuracy vs Total Validation Accuracy')\n",
    "        plt.savefig(os.path.join(self.config.root_dir,'accuracy_plot.png'))\n",
    "        plt.close()\n",
    "\n",
    "        # Plot confusion matrix\n",
    "        cm = confusion_matrix(self.labels_test, self.labels_predict)\n",
    "        ax = plt.subplot()\n",
    "        sns.heatmap(cm, annot=True, fmt='g', ax=ax)\n",
    "        ax.set_xlabel('Predicted labels')\n",
    "        ax.set_ylabel('True labels')\n",
    "        ax.set_title('Confusion Matrix')\n",
    "        ax.xaxis.set_ticklabels(['True', 'False'])\n",
    "        ax.yaxis.set_ticklabels(['NonViolence', 'Violence'])\n",
    "        plt.savefig(os.path.join(self.config.root_dir,'confusion_matrix.png'))\n",
    "        plt.close()\n",
    "\n",
    "        # Save classification report\n",
    "        classification_report_str = classification_report(self.labels_test, self.labels_predict)\n",
    "        with open(os.path.join(self.config.root_dir,'classification_report.txt'), 'w') as f:\n",
    "            f.write(classification_report_str)\n",
    "\n",
    "\n",
    "        \n",
    "    def test_set_generator(self):\n",
    "        features = np.load(os.path.join(self.config.training_data,\"features.npy\"))\n",
    "        labels= np.load(os.path.join(self.config.training_data,\"labels.npy\"))\n",
    "        video_files_paths = np.load(os.path.join(self.config.training_data,\"video_files_paths.npy\"))\n",
    "\n",
    "        one_hot_encoded_labels = to_categorical(labels)\n",
    "        features_train, features_test, labels_train, labels_test = train_test_split(features, one_hot_encoded_labels, test_size=0.2,\n",
    "                                                                            shuffle=True, random_state=42)\n",
    "\n",
    "        self.features_test=features_test\n",
    "        self.labels_test=labels_test\n",
    "\n",
    "    @staticmethod\n",
    "    def load_model(path: Path) -> tf.keras.Model:\n",
    "        return tf.keras.models.load_model(path)\n",
    "    \n",
    "    def model_predict(self):\n",
    "        labels_predict = self.model.predict(self.features_test)\n",
    "        self.labels_predict = np.argmax(labels_predict, axis=1)\n",
    "        self.labels_test = np.argmax(self.labels_test, axis=1)\n",
    "    \n",
    "    def model_evaluate(self):\n",
    "        self.score = self.model.evaluate(self.features_test, self.labels_test)\n",
    "    \n",
    "    def evaluation(self):\n",
    "        self.model = self.load_model(self.config.path_of_model)\n",
    "        self.test_set_generator()\n",
    "        self.model_evaluate()\n",
    "        self.model_predict()\n",
    "        self.save_score()\n",
    "        self.generate_training_metrics()\n",
    "    \n",
    "    def save_score(self):\n",
    "        scores = {\"loss\": self.score[0], \"accuracy\": self.score[1]}\n",
    "        save_json(path=Path(\"scores.json\"), data=scores)\n",
    "\n",
    "    \n",
    "    def log_into_mlflow(self):\n",
    "        mlflow.set_registry_uri(self.config.mlflow_uri)\n",
    "        tracking_url_type_store = urlparse(mlflow.get_tracking_uri()).scheme\n",
    "\n",
    "        with mlflow.start_run():\n",
    "            mlflow.log_params(self.config.all_params)\n",
    "            mlflow.log_metrics(\n",
    "                {\"loss\": self.score[0], \"accuracy\": self.score[1]}\n",
    "            )\n",
    "\n",
    "            # Model registry does not work with file store\n",
    "            if tracking_url_type_store != \"file\":\n",
    "                mlflow.keras.log_model(self.model, \"model\", registered_model_name=\"MobileNetV2\")\n",
    "            else:\n",
    "                mlflow.keras.log_model(self.model, \"model\")\n",
    "    "
   ]
  },
  {
   "cell_type": "code",
   "execution_count": 35,
   "metadata": {},
   "outputs": [
    {
     "name": "stdout",
     "output_type": "stream",
     "text": [
      "[2024-04-01 18:16:53,894: INFO: common: yaml file: config\\config.yaml loaded successfully]\n",
      "[2024-04-01 18:16:53,903: INFO: common: yaml file: params.yaml loaded successfully]\n",
      "[2024-04-01 18:16:53,904: INFO: common: created directory at: artifacts]\n",
      "[2024-04-01 18:16:53,906: INFO: common: created directory at: artifacts\\evalution]\n"
     ]
    },
    {
     "name": "stdout",
     "output_type": "stream",
     "text": [
      "5/5 [==============================] - 4s 546ms/step - loss: 0.0278 - accuracy: 0.9857\n",
      "5/5 [==============================] - 4s 524ms/step\n",
      "[2024-04-01 18:17:06,168: INFO: common: json file saved at: scores.json]\n",
      "[2024-04-01 18:17:06,523: WARNING: connectionpool: Retrying (Retry(total=4, connect=4, read=5, redirect=5, status=5)) after connection broken by 'NameResolutionError(\"<urllib3.connection.HTTPSConnection object at 0x0000026605557160>: Failed to resolve 'dagshub.com' ([Errno 11001] getaddrinfo failed)\")': /JaiSehgal007/violence-reporter.mlflow/api/2.0/mlflow/runs/create]\n",
      "[2024-04-01 18:17:10,533: WARNING: connectionpool: Retrying (Retry(total=3, connect=3, read=5, redirect=5, status=5)) after connection broken by 'NameResolutionError(\"<urllib3.connection.HTTPSConnection object at 0x0000026605557F70>: Failed to resolve 'dagshub.com' ([Errno 11001] getaddrinfo failed)\")': /JaiSehgal007/violence-reporter.mlflow/api/2.0/mlflow/runs/create]\n",
      "[2024-04-01 18:17:18,543: WARNING: connectionpool: Retrying (Retry(total=2, connect=2, read=5, redirect=5, status=5)) after connection broken by 'NameResolutionError(\"<urllib3.connection.HTTPSConnection object at 0x000002660554FC40>: Failed to resolve 'dagshub.com' ([Errno 11001] getaddrinfo failed)\")': /JaiSehgal007/violence-reporter.mlflow/api/2.0/mlflow/runs/create]\n"
     ]
    },
    {
     "name": "stderr",
     "output_type": "stream",
     "text": [
      "2024/04/01 18:17:22 WARNING mlflow.tensorflow: You are saving a TensorFlow Core model or Keras model without a signature. Inference with mlflow.pyfunc.spark_udf() will not work unless the model's pyfunc representation accepts pandas DataFrames as inference inputs.\n"
     ]
    },
    {
     "name": "stdout",
     "output_type": "stream",
     "text": [
      "[2024-04-01 18:17:43,851: WARNING: save: Found untraced functions such as _jit_compiled_convolution_op, _jit_compiled_convolution_op, _jit_compiled_convolution_op, _jit_compiled_convolution_op, _jit_compiled_convolution_op while saving (showing 5 of 56). These functions will not be directly callable after loading.]\n",
      "[2024-04-01 18:17:48,597: INFO: builder_impl: Assets written to: C:\\Users\\DELL\\AppData\\Local\\Temp\\tmpxu1feakn\\model\\data\\model\\assets]\n"
     ]
    },
    {
     "name": "stderr",
     "output_type": "stream",
     "text": [
      "e:\\Anaconda\\envs\\reporter\\lib\\site-packages\\_distutils_hack\\__init__.py:33: UserWarning: Setuptools is replacing distutils.\n",
      "  warnings.warn(\"Setuptools is replacing distutils.\")\n"
     ]
    },
    {
     "name": "stdout",
     "output_type": "stream",
     "text": [
      "[2024-04-01 18:22:50,897: WARNING: connectionpool: Retrying (Retry(total=4, connect=5, read=4, redirect=5, status=5)) after connection broken by 'ConnectionResetError(10054, 'An existing connection was forcibly closed by the remote host', None, 10054, None)': /JaiSehgal007/violence-reporter.mlflow/api/2.0/mlflow-artifacts/artifacts/5e85a1f80c42493eb7236c7976568527/84543a0851cc44f4b465ffcc2c426ab0/artifacts/model/data/model/variables/variables.data-00000-of-00001]\n",
      "[2024-04-01 18:22:54,933: WARNING: connectionpool: Retrying (Retry(total=3, connect=4, read=4, redirect=5, status=5)) after connection broken by 'NameResolutionError(\"<urllib3.connection.HTTPSConnection object at 0x00000265FEE685B0>: Failed to resolve 'dagshub.com' ([Errno 11001] getaddrinfo failed)\")': /JaiSehgal007/violence-reporter.mlflow/api/2.0/mlflow-artifacts/artifacts/5e85a1f80c42493eb7236c7976568527/84543a0851cc44f4b465ffcc2c426ab0/artifacts/model/data/model/variables/variables.data-00000-of-00001]\n",
      "[2024-04-01 18:23:02,935: WARNING: connectionpool: Retrying (Retry(total=2, connect=3, read=4, redirect=5, status=5)) after connection broken by 'NameResolutionError(\"<urllib3.connection.HTTPSConnection object at 0x00000265FEE68580>: Failed to resolve 'dagshub.com' ([Errno 11001] getaddrinfo failed)\")': /JaiSehgal007/violence-reporter.mlflow/api/2.0/mlflow-artifacts/artifacts/5e85a1f80c42493eb7236c7976568527/84543a0851cc44f4b465ffcc2c426ab0/artifacts/model/data/model/variables/variables.data-00000-of-00001]\n"
     ]
    },
    {
     "name": "stderr",
     "output_type": "stream",
     "text": [
      "Successfully registered model 'VGG16Model'.\n",
      "2024/04/01 18:27:50 INFO mlflow.tracking._model_registry.client: Waiting up to 300 seconds for model version to finish creation.                     Model name: VGG16Model, version 1\n",
      "Created version '1' of model 'VGG16Model'.\n"
     ]
    }
   ],
   "source": [
    "try:\n",
    "    config=ConfigurationManager()\n",
    "    eval_config=config.get_evaluation_config()\n",
    "    evaluation=Evaluation(eval_config)\n",
    "    evaluation.evaluation()\n",
    "    evaluation.log_into_mlflow()\n",
    "\n",
    "except Exception as e:\n",
    "    raise e"
   ]
  }
 ],
 "metadata": {
  "kernelspec": {
   "display_name": "Python 3",
   "language": "python",
   "name": "python3"
  },
  "language_info": {
   "codemirror_mode": {
    "name": "ipython",
    "version": 3
   },
   "file_extension": ".py",
   "mimetype": "text/x-python",
   "name": "python",
   "nbconvert_exporter": "python",
   "pygments_lexer": "ipython3",
   "version": "3.9.19"
  }
 },
 "nbformat": 4,
 "nbformat_minor": 2
}

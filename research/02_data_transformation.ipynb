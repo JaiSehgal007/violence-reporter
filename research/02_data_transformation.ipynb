{
 "cells": [
  {
   "cell_type": "code",
   "execution_count": 1,
   "metadata": {},
   "outputs": [],
   "source": [
    "import os"
   ]
  },
  {
   "cell_type": "code",
   "execution_count": 2,
   "metadata": {},
   "outputs": [],
   "source": [
    "os.chdir(\"../\")"
   ]
  },
  {
   "cell_type": "code",
   "execution_count": 3,
   "metadata": {},
   "outputs": [
    {
     "data": {
      "text/plain": [
       "'d:\\\\ML_Projects\\\\Violence-Reporter'"
      ]
     },
     "execution_count": 3,
     "metadata": {},
     "output_type": "execute_result"
    }
   ],
   "source": [
    "%pwd"
   ]
  },
  {
   "cell_type": "code",
   "execution_count": 4,
   "metadata": {},
   "outputs": [],
   "source": [
    "from dataclasses import dataclass\n",
    "from pathlib import Path\n",
    "\n",
    "@dataclass(frozen=True)\n",
    "class DataTransformationConfig:\n",
    "    root_dir: Path\n",
    "    dataset_dir: Path\n",
    "    classes_list: list\n",
    "    params_image_height: int\n",
    "    params_image_width: int\n",
    "    params_sequence_length: int"
   ]
  },
  {
   "cell_type": "code",
   "execution_count": 5,
   "metadata": {},
   "outputs": [],
   "source": [
    "from violenceReporter.constants import *\n",
    "from violenceReporter.utils.common import read_yaml,create_directories"
   ]
  },
  {
   "cell_type": "code",
   "execution_count": 6,
   "metadata": {},
   "outputs": [],
   "source": [
    "class ConfigurationManager:\n",
    "    def __init__(\n",
    "            self,\n",
    "            config_filepath = CONFIG_FILE_PATH,\n",
    "            params_filepath = PARAMS_FILE_PATH):\n",
    "        \n",
    "        self.config=read_yaml(config_filepath)\n",
    "        self.params=read_yaml(params_filepath)\n",
    "\n",
    "        create_directories([self.config.artifacts_root])\n",
    "    \n",
    "    def get_data_transformation_config(self)-> DataTransformationConfig:\n",
    "        config=self.config.data_transformation\n",
    "\n",
    "        create_directories([config.root_dir])\n",
    "\n",
    "        data_transformation_config = DataTransformationConfig(\n",
    "            root_dir= config.root_dir,\n",
    "            dataset_dir= config.dataset_dir,\n",
    "            classes_list= config.classes_list,\n",
    "            params_image_height= self.params.IMAGE_HEIGHT,\n",
    "            params_image_width= self.params.IMAGE_WIDTH,\n",
    "            params_sequence_length= self.params.SEQUENCE_LENGTH\n",
    "        )\n",
    "\n",
    "        return data_transformation_config"
   ]
  },
  {
   "cell_type": "code",
   "execution_count": 7,
   "metadata": {},
   "outputs": [],
   "source": [
    "import cv2\n",
    "import os\n",
    "import numpy as np"
   ]
  },
  {
   "cell_type": "code",
   "execution_count": 8,
   "metadata": {},
   "outputs": [],
   "source": [
    "class DataTransformation:\n",
    "    def __init__(self,config: DataTransformationConfig):\n",
    "        self.config=config\n",
    "\n",
    "    def frames_extraction(self,video_path)->list:\n",
    "        '''\n",
    "        Extracts frames and normalize the frames from video\n",
    "        '''\n",
    "        frames_list = []\n",
    "        video_reader = cv2.VideoCapture(video_path)\n",
    "        video_frames_count = int(video_reader.get(cv2.CAP_PROP_FRAME_COUNT))\n",
    "        skip_frames_window = max(int(video_frames_count/self.config.params_sequence_length), 1)\n",
    "\n",
    "        for frame_counter in range(self.config.params_sequence_length):\n",
    "            video_reader.set(cv2.CAP_PROP_POS_FRAMES, frame_counter * skip_frames_window)\n",
    "            success, frame = video_reader.read()\n",
    "\n",
    "            if not success:\n",
    "                break\n",
    "\n",
    "            resized_frame = cv2.resize(frame, (self.config.params_image_height, self.config.params_image_width))\n",
    "            normalized_frame = resized_frame / 255\n",
    "            frames_list.append(normalized_frame)\n",
    "\n",
    "        video_reader.release()\n",
    "        return frames_list\n",
    "    \n",
    "\n",
    "    def create_dataset(self):\n",
    "        ''' \n",
    "        Extract video features and labels and convert in numpy array\n",
    "        '''\n",
    "        features = []\n",
    "        labels = []\n",
    "        video_files_paths = []\n",
    "\n",
    "        for class_index, class_name in enumerate(self.config.classes_list):\n",
    "            print(f'Extracting Data of Class: {class_name}')\n",
    "            files_list = os.listdir(os.path.join(self.config.dataset_dir, class_name))\n",
    "\n",
    "            for file_name in files_list:\n",
    "                video_file_path = os.path.join(self.config.dataset_dir, class_name, file_name)\n",
    "                frames = self.frames_extraction(video_file_path)\n",
    "\n",
    "                if len(frames) == self.config.params_sequence_length:\n",
    "                    features.append(frames)\n",
    "                    labels.append(class_index)\n",
    "                    video_files_paths.append(video_file_path)\n",
    "\n",
    "        features = np.asarray(features)\n",
    "        labels = np.array(labels)\n",
    "\n",
    "        return features, labels, video_files_paths\n",
    "    \n",
    "    def transform_dataset(self):\n",
    "        '''\n",
    "        Save transformed dataset to specified location\n",
    "        '''\n",
    "        features, labels, video_files_paths = self.create_dataset()\n",
    "        np.save(f\"{self.config.root_dir}/features.npy\", features)\n",
    "        np.save(f\"{self.config.root_dir}/labels.npy\", labels)\n",
    "        np.save(f\"{self.config.root_dir}/video_files_paths.npy\", video_files_paths)\n",
    "        \n",
    "    \n",
    "    "
   ]
  },
  {
   "cell_type": "code",
   "execution_count": 9,
   "metadata": {},
   "outputs": [
    {
     "name": "stdout",
     "output_type": "stream",
     "text": [
      "[2024-03-31 00:29:26,237: INFO: common: yaml file: config\\config.yaml loaded successfully]\n",
      "[2024-03-31 00:29:26,256: INFO: common: yaml file: params.yaml loaded successfully]\n",
      "[2024-03-31 00:29:26,260: INFO: common: created directory at: artifacts]\n",
      "[2024-03-31 00:29:26,264: INFO: common: created directory at: artifacts/data_transformation]\n"
     ]
    },
    {
     "name": "stdout",
     "output_type": "stream",
     "text": [
      "Extracting Data of Class: NonViolence\n",
      "Extracting Data of Class: Violence\n"
     ]
    }
   ],
   "source": [
    "try:\n",
    "    config=ConfigurationManager()\n",
    "    data_transformation_config=config.get_data_transformation_config()\n",
    "    data_transformation=DataTransformation(config=data_transformation_config)\n",
    "    data_transformation.transform_dataset()\n",
    "except Exception as e:\n",
    "    raise e"
   ]
  }
 ],
 "metadata": {
  "kernelspec": {
   "display_name": "Python 3",
   "language": "python",
   "name": "python3"
  },
  "language_info": {
   "codemirror_mode": {
    "name": "ipython",
    "version": 3
   },
   "file_extension": ".py",
   "mimetype": "text/x-python",
   "name": "python",
   "nbconvert_exporter": "python",
   "pygments_lexer": "ipython3",
   "version": "3.9.19"
  }
 },
 "nbformat": 4,
 "nbformat_minor": 2
}
